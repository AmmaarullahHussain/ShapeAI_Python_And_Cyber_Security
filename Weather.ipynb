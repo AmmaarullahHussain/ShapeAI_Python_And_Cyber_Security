{
  "nbformat": 4,
  "nbformat_minor": 0,
  "metadata": {
    "colab": {
      "name": "Weather.ipynb",
      "provenance": []
    },
    "kernelspec": {
      "name": "python3",
      "display_name": "Python 3"
    },
    "language_info": {
      "name": "python"
    }
  },
  "cells": [
    {
      "cell_type": "code",
      "metadata": {
        "colab": {
          "base_uri": "https://localhost:8080/"
        },
        "id": "LA-zQ_gRCiR3",
        "outputId": "c9b04ae4-0add-4b5a-d203-67197af965ad"
      },
      "source": [
        "import requests\n",
        "from datetime import datetime\n",
        "api_key = '2fe7ec3da0edca00821016afb02727a1'\n",
        "location = input(\"Enter the city name: \")\n",
        "complete_api_link = \"https://api.openweathermap.org/data/2.5/weather?q=\"+location+\"&appid=\"+api_key\n",
        "api_link = requests.get(complete_api_link)\n",
        "api_data = api_link.json()\n",
        "temp_city = ((api_data['main']['temp']) - 273.15)\n",
        "weather_desc = api_data['weather'][0]['description']\n",
        "hmdt = api_data['main']['humidity']\n",
        "wind_spd = api_data['wind']['speed']\n",
        "date_time = datetime.now().strftime(\"%d %b %y | %I:%M:%S %p\")\n",
        "\n",
        "print(\"----------------------------------------------------------------\")\n",
        "print(\"Weather Stats for - {} || {}\".format(location.upper(), date_time))\n",
        "print(\"----------------------------------------------------------------\")\n",
        "\n",
        "print(\"Curret temperature is: {:.2f} deg C\".format(temp_city))\n",
        "print(\"Current weather desc :\",weather_desc)\n",
        "print(\"Current Humidity     :\",hmdt, '%')\n",
        "print(\"Current wind speed   :\",wind_spd ,'kmph')\n"
      ],
      "execution_count": 21,
      "outputs": [
        {
          "output_type": "stream",
          "text": [
            "Enter the city name: chennai\n",
            "----------------------------------------------------------------\n",
            "Weather Stats for - CHENNAI || 23 Jun 21 | 01:53:07 PM\n",
            "----------------------------------------------------------------\n",
            "Curret temperature is: 29.98 deg C\n",
            "Current weather desc : haze\n",
            "Current Humidity     : 84 %\n",
            "Current wind speed   : 1.34 kmph\n"
          ],
          "name": "stdout"
        }
      ]
    }
  ]
}